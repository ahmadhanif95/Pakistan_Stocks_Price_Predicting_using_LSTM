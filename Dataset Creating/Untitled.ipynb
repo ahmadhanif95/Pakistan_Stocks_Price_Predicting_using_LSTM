{
 "cells": [
  {
   "cell_type": "code",
   "execution_count": 12,
   "id": "e555b40d",
   "metadata": {},
   "outputs": [],
   "source": [
    "import pandas as pd\n",
    "import os\n",
    "folder_path = 'G:\\\\Stock Price Prediction\\\\'\n",
    "dataframes = []\n",
    "for filename in os.listdir(folder_path):\n",
    "    if filename.endswith(\".csv\"):\n",
    "        file_path = os.path.join(folder_path, filename)\n",
    "        dataset_name = os.path.splitext(filename)[0]  # Extract the dataset name from the file name\n",
    "        df = pd.read_csv(file_path, encoding='latin1')\n",
    "        df['DatasetName'] = dataset_name  # Add a new column with the dataset name\n",
    "        dataframes.append(df)\n",
    "merged_df = pd.concat(dataframes, ignore_index=True)\n",
    "# If you want to save the merged DataFrame to a new CSV file:\n",
    "merged_df.to_csv('Pakistan_Stocks_Price_combined_data.csv', index=False)"
   ]
  }
 ],
 "metadata": {
  "kernelspec": {
   "display_name": "Python 3 (ipykernel)",
   "language": "python",
   "name": "python3"
  },
  "language_info": {
   "codemirror_mode": {
    "name": "ipython",
    "version": 3
   },
   "file_extension": ".py",
   "mimetype": "text/x-python",
   "name": "python",
   "nbconvert_exporter": "python",
   "pygments_lexer": "ipython3",
   "version": "3.10.9"
  }
 },
 "nbformat": 4,
 "nbformat_minor": 5
}
