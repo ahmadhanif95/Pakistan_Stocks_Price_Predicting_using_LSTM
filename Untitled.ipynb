{
 "cells": [
  {
   "cell_type": "code",
   "execution_count": 1,
   "id": "b2d3b591",
   "metadata": {},
   "outputs": [],
   "source": [
    "import numpy as np\n",
    "import pandas as pd"
   ]
  },
  {
   "cell_type": "code",
   "execution_count": 2,
   "id": "963e2907",
   "metadata": {},
   "outputs": [
    {
     "name": "stderr",
     "output_type": "stream",
     "text": [
      "C:\\Users\\ahmad\\AppData\\Local\\Temp\\ipykernel_18012\\2185731277.py:1: DtypeWarning: Columns (6) have mixed types. Specify dtype option on import or set low_memory=False.\n",
      "  df=pd.read_csv('G:\\\\Stock Price Prediction\\\\Pakistan_Stocks_Price_combined_data.csv', encoding='latin1')\n"
     ]
    }
   ],
   "source": [
    "df=pd.read_csv('G:\\\\Stock Price Prediction\\\\Pakistan_Stocks_Price_combined_data.csv', encoding='latin1')"
   ]
  },
  {
   "cell_type": "code",
   "execution_count": 3,
   "id": "a31b9929",
   "metadata": {},
   "outputs": [
    {
     "data": {
      "text/html": [
       "<div>\n",
       "<style scoped>\n",
       "    .dataframe tbody tr th:only-of-type {\n",
       "        vertical-align: middle;\n",
       "    }\n",
       "\n",
       "    .dataframe tbody tr th {\n",
       "        vertical-align: top;\n",
       "    }\n",
       "\n",
       "    .dataframe thead th {\n",
       "        text-align: right;\n",
       "    }\n",
       "</style>\n",
       "<table border=\"1\" class=\"dataframe\">\n",
       "  <thead>\n",
       "    <tr style=\"text-align: right;\">\n",
       "      <th></th>\n",
       "      <th>date</th>\n",
       "      <th>open</th>\n",
       "      <th>high</th>\n",
       "      <th>low</th>\n",
       "      <th>close</th>\n",
       "      <th>volume</th>\n",
       "      <th>change</th>\n",
       "      <th>DatasetName</th>\n",
       "    </tr>\n",
       "  </thead>\n",
       "  <tbody>\n",
       "    <tr>\n",
       "      <th>0</th>\n",
       "      <td>02-Nov-2022</td>\n",
       "      <td>63.47</td>\n",
       "      <td>63.47</td>\n",
       "      <td>63.47</td>\n",
       "      <td>63.47</td>\n",
       "      <td>1,000</td>\n",
       "      <td>0.37</td>\n",
       "      <td>ABL-prices-2022-11-02</td>\n",
       "    </tr>\n",
       "    <tr>\n",
       "      <th>1</th>\n",
       "      <td>01-Nov-2022</td>\n",
       "      <td>61.5</td>\n",
       "      <td>63.99</td>\n",
       "      <td>61.5</td>\n",
       "      <td>63.1</td>\n",
       "      <td>568,000</td>\n",
       "      <td>-0.38</td>\n",
       "      <td>ABL-prices-2022-11-02</td>\n",
       "    </tr>\n",
       "    <tr>\n",
       "      <th>2</th>\n",
       "      <td>31-Oct-2022</td>\n",
       "      <td>63.48</td>\n",
       "      <td>63.48</td>\n",
       "      <td>63.48</td>\n",
       "      <td>63.48</td>\n",
       "      <td>500</td>\n",
       "      <td>2.38</td>\n",
       "      <td>ABL-prices-2022-11-02</td>\n",
       "    </tr>\n",
       "    <tr>\n",
       "      <th>3</th>\n",
       "      <td>28-Oct-2022</td>\n",
       "      <td>63.85</td>\n",
       "      <td>63.85</td>\n",
       "      <td>63.0</td>\n",
       "      <td>63.1</td>\n",
       "      <td>1,500</td>\n",
       "      <td>0.02</td>\n",
       "      <td>ABL-prices-2022-11-02</td>\n",
       "    </tr>\n",
       "    <tr>\n",
       "      <th>4</th>\n",
       "      <td>27-Oct-2022</td>\n",
       "      <td>63.8</td>\n",
       "      <td>64.0</td>\n",
       "      <td>63.07</td>\n",
       "      <td>63.08</td>\n",
       "      <td>9,000</td>\n",
       "      <td>-0.82</td>\n",
       "      <td>ABL-prices-2022-11-02</td>\n",
       "    </tr>\n",
       "  </tbody>\n",
       "</table>\n",
       "</div>"
      ],
      "text/plain": [
       "          date   open   high    low  close   volume change  \\\n",
       "0  02-Nov-2022  63.47  63.47  63.47  63.47    1,000   0.37   \n",
       "1  01-Nov-2022   61.5  63.99   61.5   63.1  568,000  -0.38   \n",
       "2  31-Oct-2022  63.48  63.48  63.48  63.48      500   2.38   \n",
       "3  28-Oct-2022  63.85  63.85   63.0   63.1    1,500   0.02   \n",
       "4  27-Oct-2022   63.8   64.0  63.07  63.08    9,000  -0.82   \n",
       "\n",
       "             DatasetName  \n",
       "0  ABL-prices-2022-11-02  \n",
       "1  ABL-prices-2022-11-02  \n",
       "2  ABL-prices-2022-11-02  \n",
       "3  ABL-prices-2022-11-02  \n",
       "4  ABL-prices-2022-11-02  "
      ]
     },
     "execution_count": 3,
     "metadata": {},
     "output_type": "execute_result"
    }
   ],
   "source": [
    "df.head()"
   ]
  },
  {
   "cell_type": "code",
   "execution_count": 4,
   "id": "a9233d67",
   "metadata": {},
   "outputs": [
    {
     "data": {
      "text/html": [
       "<div>\n",
       "<style scoped>\n",
       "    .dataframe tbody tr th:only-of-type {\n",
       "        vertical-align: middle;\n",
       "    }\n",
       "\n",
       "    .dataframe tbody tr th {\n",
       "        vertical-align: top;\n",
       "    }\n",
       "\n",
       "    .dataframe thead th {\n",
       "        text-align: right;\n",
       "    }\n",
       "</style>\n",
       "<table border=\"1\" class=\"dataframe\">\n",
       "  <thead>\n",
       "    <tr style=\"text-align: right;\">\n",
       "      <th></th>\n",
       "      <th>date</th>\n",
       "      <th>open</th>\n",
       "      <th>high</th>\n",
       "      <th>low</th>\n",
       "      <th>close</th>\n",
       "      <th>volume</th>\n",
       "      <th>change</th>\n",
       "      <th>DatasetName</th>\n",
       "    </tr>\n",
       "  </thead>\n",
       "  <tbody>\n",
       "    <tr>\n",
       "      <th>72067</th>\n",
       "      <td>01-Jun-2018</td>\n",
       "      <td>8,199.00</td>\n",
       "      <td>8,199.00</td>\n",
       "      <td>8,000.00</td>\n",
       "      <td>8,000.00</td>\n",
       "      <td>40</td>\n",
       "      <td>149.15</td>\n",
       "      <td>upfl-prices-2022-11-02</td>\n",
       "    </tr>\n",
       "    <tr>\n",
       "      <th>72068</th>\n",
       "      <td>31-May-2018</td>\n",
       "      <td>7,851.00</td>\n",
       "      <td>7,851.00</td>\n",
       "      <td>7,850.85</td>\n",
       "      <td>7,850.85</td>\n",
       "      <td>40</td>\n",
       "      <td>-413.20</td>\n",
       "      <td>upfl-prices-2022-11-02</td>\n",
       "    </tr>\n",
       "    <tr>\n",
       "      <th>72069</th>\n",
       "      <td>30-May-2018</td>\n",
       "      <td>8,264.05</td>\n",
       "      <td>8,264.05</td>\n",
       "      <td>8,264.05</td>\n",
       "      <td>8,264.05</td>\n",
       "      <td>20</td>\n",
       "      <td>-434.95</td>\n",
       "      <td>upfl-prices-2022-11-02</td>\n",
       "    </tr>\n",
       "    <tr>\n",
       "      <th>72070</th>\n",
       "      <td>28-May-2018</td>\n",
       "      <td>8,699.00</td>\n",
       "      <td>8,699.00</td>\n",
       "      <td>8,699.00</td>\n",
       "      <td>8,699.00</td>\n",
       "      <td>20</td>\n",
       "      <td>331.00</td>\n",
       "      <td>upfl-prices-2022-11-02</td>\n",
       "    </tr>\n",
       "    <tr>\n",
       "      <th>72071</th>\n",
       "      <td>25-May-2018</td>\n",
       "      <td>7,960.05</td>\n",
       "      <td>8,368.00</td>\n",
       "      <td>7,960.05</td>\n",
       "      <td>8,368.00</td>\n",
       "      <td>40</td>\n",
       "      <td>-11.00</td>\n",
       "      <td>upfl-prices-2022-11-02</td>\n",
       "    </tr>\n",
       "  </tbody>\n",
       "</table>\n",
       "</div>"
      ],
      "text/plain": [
       "              date      open      high       low     close volume   change  \\\n",
       "72067  01-Jun-2018  8,199.00  8,199.00  8,000.00  8,000.00     40   149.15   \n",
       "72068  31-May-2018  7,851.00  7,851.00  7,850.85  7,850.85     40  -413.20   \n",
       "72069  30-May-2018  8,264.05  8,264.05  8,264.05  8,264.05     20  -434.95   \n",
       "72070  28-May-2018  8,699.00  8,699.00  8,699.00  8,699.00     20   331.00   \n",
       "72071  25-May-2018  7,960.05  8,368.00  7,960.05  8,368.00     40   -11.00   \n",
       "\n",
       "                  DatasetName  \n",
       "72067  upfl-prices-2022-11-02  \n",
       "72068  upfl-prices-2022-11-02  \n",
       "72069  upfl-prices-2022-11-02  \n",
       "72070  upfl-prices-2022-11-02  \n",
       "72071  upfl-prices-2022-11-02  "
      ]
     },
     "execution_count": 4,
     "metadata": {},
     "output_type": "execute_result"
    }
   ],
   "source": [
    "df.tail()"
   ]
  },
  {
   "cell_type": "code",
   "execution_count": 5,
   "id": "1cf62264",
   "metadata": {},
   "outputs": [
    {
     "data": {
      "text/plain": [
       "date           0\n",
       "open           0\n",
       "high           0\n",
       "low            0\n",
       "close          0\n",
       "volume         0\n",
       "change         0\n",
       "DatasetName    0\n",
       "dtype: int64"
      ]
     },
     "execution_count": 5,
     "metadata": {},
     "output_type": "execute_result"
    }
   ],
   "source": [
    "df.isna().sum()"
   ]
  },
  {
   "cell_type": "code",
   "execution_count": 6,
   "id": "79165c0d",
   "metadata": {},
   "outputs": [
    {
     "name": "stdout",
     "output_type": "stream",
     "text": [
      "['ABL-prices-2022-11-02' 'ABOT-prices-2022-11-02' 'AKBL-prices-2022-11-03'\n",
      " 'APL-prices-2022-11-02' 'ATLH-prices-2022-11-02' 'AVN-prices-2022-11-03'\n",
      " 'BAFL-prices-2022-11-02' 'BAHL-prices-2022-11-02'\n",
      " 'BWCL-prices-2022-11-02' 'CHCC-prices-2022-11-03'\n",
      " 'CNERGY-prices-2022-11-03' 'colg-prices-2022-11-02'\n",
      " 'DAWH-prices-2022-11-02' 'DCR-prices-2022-11-03'\n",
      " 'EFERT-prices-2022-11-02' 'ENGRO-prices-2022-11-02'\n",
      " 'FABL-prices-2022-11-02' 'FATIMA-prices-2022-11-02'\n",
      " 'FCCL-prices-2022-11-02' 'FFBL-prices-2022-11-03' 'FFC-prices-2022-11-02'\n",
      " 'FML-prices-2022-11-03' 'GHGL-prices-2022-11-03'\n",
      " 'GLAXO-prices-2022-11-02' 'GSKCH-prices-2022-11-03'\n",
      " 'HBL-prices-2022-11-02' 'HCAR-prices-2022-11-03' 'HMB-prices-2022-11-02'\n",
      " 'HUBC-prices-2022-11-02' 'IBFL-prices-2022-11-02' 'ICI-prices-2022-11-02'\n",
      " 'ILP-prices-2022-11-02' 'INDU-prices-2022-11-02' 'ISIL-prices-2022-11-03'\n",
      " 'JDWS-prices-2022-11-03' 'KAPCO-prices-2022-11-03'\n",
      " 'KEL-prices-2022-11-02' 'KOHC-prices-2022-11-02'\n",
      " 'LOTCHEM-prices-2022-11-02' 'luck-prices-2022-11-02'\n",
      " 'MARI-prices-2022-11-02' 'mcb-prices-2022-11-02' 'MEBL-prices-2022-11-02'\n",
      " 'MLCF-prices-2022-11-03' 'MTL-prices-2022-11-02' 'NATF-prices-2022-11-03'\n",
      " 'NBP-prices-2022-11-02' 'nestle-prices-2022-11-02'\n",
      " 'OGDC-prices-2022-11-02' 'PAKT-prices-2022-11-02'\n",
      " 'PKGS-prices-2022-11-02' 'PMPK-prices-2022-11-02' 'POL-prices-2022-11-02'\n",
      " 'PPL-prices-2022-11-02' 'PSEL-prices-2022-11-03' 'PSO-prices-2022-11-02'\n",
      " 'PTC-prices-2022-11-02' 'RMPL-prices-2022-11-02' 'SAPT-prices-2022-11-03'\n",
      " 'SCBPL-prices-2022-11-02' 'SEARL-prices-2022-11-03'\n",
      " 'SFL-prices-2022-11-03' 'SHEL-prices-2022-11-03' 'SYS-prices-2022-11-02'\n",
      " 'TRG-prices-2022-11-02' 'UBL-prices-2022-11-02' 'UNITY-prices-2022-11-03'\n",
      " 'upfl-prices-2022-11-02']\n"
     ]
    }
   ],
   "source": [
    "column_values = df['DatasetName'].unique()\n",
    "print(column_values)"
   ]
  },
  {
   "cell_type": "code",
   "execution_count": 7,
   "id": "e6d91e40",
   "metadata": {},
   "outputs": [],
   "source": [
    "# Use the str.split() method to split each value on \"-prices-\"\n",
    "# and then select the part before \"-prices-\".\n",
    "df['DatasetName'] = df['DatasetName'].str.split('-prices-').str[0]\n",
    "# Now, the 'DatasetName' column will contain the desired values."
   ]
  },
  {
   "cell_type": "code",
   "execution_count": 8,
   "id": "a321670a",
   "metadata": {},
   "outputs": [],
   "source": [
    "# want to rename 'DatasetName' to 'NewColumnName'\n",
    "df = df.rename(columns={'DatasetName': 'CompanayName'})"
   ]
  },
  {
   "cell_type": "code",
   "execution_count": 9,
   "id": "d4a1608f",
   "metadata": {},
   "outputs": [
    {
     "data": {
      "text/html": [
       "<div>\n",
       "<style scoped>\n",
       "    .dataframe tbody tr th:only-of-type {\n",
       "        vertical-align: middle;\n",
       "    }\n",
       "\n",
       "    .dataframe tbody tr th {\n",
       "        vertical-align: top;\n",
       "    }\n",
       "\n",
       "    .dataframe thead th {\n",
       "        text-align: right;\n",
       "    }\n",
       "</style>\n",
       "<table border=\"1\" class=\"dataframe\">\n",
       "  <thead>\n",
       "    <tr style=\"text-align: right;\">\n",
       "      <th></th>\n",
       "      <th>date</th>\n",
       "      <th>open</th>\n",
       "      <th>high</th>\n",
       "      <th>low</th>\n",
       "      <th>close</th>\n",
       "      <th>volume</th>\n",
       "      <th>change</th>\n",
       "      <th>CompanayName</th>\n",
       "    </tr>\n",
       "  </thead>\n",
       "  <tbody>\n",
       "    <tr>\n",
       "      <th>0</th>\n",
       "      <td>02-Nov-2022</td>\n",
       "      <td>63.47</td>\n",
       "      <td>63.47</td>\n",
       "      <td>63.47</td>\n",
       "      <td>63.47</td>\n",
       "      <td>1,000</td>\n",
       "      <td>0.37</td>\n",
       "      <td>ABL</td>\n",
       "    </tr>\n",
       "    <tr>\n",
       "      <th>1</th>\n",
       "      <td>01-Nov-2022</td>\n",
       "      <td>61.5</td>\n",
       "      <td>63.99</td>\n",
       "      <td>61.5</td>\n",
       "      <td>63.1</td>\n",
       "      <td>568,000</td>\n",
       "      <td>-0.38</td>\n",
       "      <td>ABL</td>\n",
       "    </tr>\n",
       "    <tr>\n",
       "      <th>2</th>\n",
       "      <td>31-Oct-2022</td>\n",
       "      <td>63.48</td>\n",
       "      <td>63.48</td>\n",
       "      <td>63.48</td>\n",
       "      <td>63.48</td>\n",
       "      <td>500</td>\n",
       "      <td>2.38</td>\n",
       "      <td>ABL</td>\n",
       "    </tr>\n",
       "    <tr>\n",
       "      <th>3</th>\n",
       "      <td>28-Oct-2022</td>\n",
       "      <td>63.85</td>\n",
       "      <td>63.85</td>\n",
       "      <td>63.0</td>\n",
       "      <td>63.1</td>\n",
       "      <td>1,500</td>\n",
       "      <td>0.02</td>\n",
       "      <td>ABL</td>\n",
       "    </tr>\n",
       "    <tr>\n",
       "      <th>4</th>\n",
       "      <td>27-Oct-2022</td>\n",
       "      <td>63.8</td>\n",
       "      <td>64.0</td>\n",
       "      <td>63.07</td>\n",
       "      <td>63.08</td>\n",
       "      <td>9,000</td>\n",
       "      <td>-0.82</td>\n",
       "      <td>ABL</td>\n",
       "    </tr>\n",
       "  </tbody>\n",
       "</table>\n",
       "</div>"
      ],
      "text/plain": [
       "          date   open   high    low  close   volume change CompanayName\n",
       "0  02-Nov-2022  63.47  63.47  63.47  63.47    1,000   0.37          ABL\n",
       "1  01-Nov-2022   61.5  63.99   61.5   63.1  568,000  -0.38          ABL\n",
       "2  31-Oct-2022  63.48  63.48  63.48  63.48      500   2.38          ABL\n",
       "3  28-Oct-2022  63.85  63.85   63.0   63.1    1,500   0.02          ABL\n",
       "4  27-Oct-2022   63.8   64.0  63.07  63.08    9,000  -0.82          ABL"
      ]
     },
     "execution_count": 9,
     "metadata": {},
     "output_type": "execute_result"
    }
   ],
   "source": [
    "df.head()"
   ]
  },
  {
   "cell_type": "code",
   "execution_count": 10,
   "id": "ab8cc67c",
   "metadata": {},
   "outputs": [],
   "source": [
    "df['open'] = df['open'].str.replace(',', '').astype(float)\n",
    "df['high'] = df['high'].str.replace(',', '').astype(float)\n",
    "df['low'] = df['low'].str.replace(',', '').astype(float)\n",
    "df['close'] = df['close'].str.replace(',', '').astype(float)\n",
    "df['volume'] = df['volume'].str.replace(',', '').astype(float)\n",
    "df['change'] = df['change'].str.replace(',', '').astype(float)\n"
   ]
  },
  {
   "cell_type": "code",
   "execution_count": 48,
   "id": "9ba004a7",
   "metadata": {},
   "outputs": [
    {
     "data": {
      "text/plain": [
       "(72072, 8)"
      ]
     },
     "execution_count": 48,
     "metadata": {},
     "output_type": "execute_result"
    }
   ],
   "source": [
    "df.shape"
   ]
  },
  {
   "cell_type": "code",
   "execution_count": 11,
   "id": "1ef888e5",
   "metadata": {},
   "outputs": [],
   "source": [
    "df1=df.reset_index()['close']"
   ]
  },
  {
   "cell_type": "code",
   "execution_count": 12,
   "id": "f1a346b9",
   "metadata": {},
   "outputs": [],
   "source": [
    "import matplotlib.pyplot as plt\n",
    "#plt.plot(df1)"
   ]
  },
  {
   "cell_type": "code",
   "execution_count": 13,
   "id": "9e3e53c5",
   "metadata": {},
   "outputs": [],
   "source": [
    "from sklearn.preprocessing import MinMaxScaler\n",
    "scaler=MinMaxScaler(feature_range=(0,1))\n",
    "df1=scaler.fit_transform(np.array(df1).reshape(-1,1))"
   ]
  },
  {
   "cell_type": "code",
   "execution_count": 14,
   "id": "0478620b",
   "metadata": {},
   "outputs": [],
   "source": [
    "training_size=int(len(df1)*0.65)\n",
    "test_size=len(df1)-training_size\n",
    "train_data,test_data=df1[0:training_size,:],df1[training_size:len(df1),:1]"
   ]
  },
  {
   "cell_type": "code",
   "execution_count": 15,
   "id": "2c774a7b",
   "metadata": {},
   "outputs": [
    {
     "data": {
      "text/plain": [
       "(46846, 25226)"
      ]
     },
     "execution_count": 15,
     "metadata": {},
     "output_type": "execute_result"
    }
   ],
   "source": [
    "training_size,test_size"
   ]
  },
  {
   "cell_type": "code",
   "execution_count": 16,
   "id": "cf8436a7",
   "metadata": {},
   "outputs": [],
   "source": [
    "import numpy as np\n",
    "# Convert an array of values into a dataset matrix\n",
    "def create_dataset(dataset, time_step=1):\n",
    "    dataX, dataY = [], []\n",
    "    for i in range(len(dataset) - time_step-1):\n",
    "        # Create a sequence of values with the specified time_step\n",
    "        a = dataset[i:(i+time_step),0]\n",
    "        # The next value in the sequence is the target (Y)\n",
    "        y = dataset[i + time_step,0]\n",
    "        dataX.append(a)\n",
    "        dataY.append(y)\n",
    "    return np.array(dataX), np.array(dataY)"
   ]
  },
  {
   "cell_type": "code",
   "execution_count": 49,
   "id": "d85bb1b0",
   "metadata": {},
   "outputs": [],
   "source": [
    "time_step = 50\n",
    "X_train, y_train = create_dataset(train_data, time_step)\n",
    "X_test, y_test = create_dataset(test_data, time_step)"
   ]
  },
  {
   "cell_type": "code",
   "execution_count": 50,
   "id": "de2c4cde",
   "metadata": {},
   "outputs": [
    {
     "name": "stdout",
     "output_type": "stream",
     "text": [
      "(46795, 50)\n",
      "(46795,)\n"
     ]
    },
    {
     "data": {
      "text/plain": [
       "(None, None)"
      ]
     },
     "execution_count": 50,
     "metadata": {},
     "output_type": "execute_result"
    }
   ],
   "source": [
    "print(X_train.shape), print(y_train.shape)"
   ]
  },
  {
   "cell_type": "code",
   "execution_count": 51,
   "id": "c342d814",
   "metadata": {},
   "outputs": [
    {
     "name": "stdout",
     "output_type": "stream",
     "text": [
      "(25175, 50)\n",
      "(25175,)\n"
     ]
    },
    {
     "data": {
      "text/plain": [
       "(None, None)"
      ]
     },
     "execution_count": 51,
     "metadata": {},
     "output_type": "execute_result"
    }
   ],
   "source": [
    "print(X_test.shape), print(y_test.shape)"
   ]
  },
  {
   "cell_type": "code",
   "execution_count": 52,
   "id": "cccc599e",
   "metadata": {},
   "outputs": [],
   "source": [
    "X_train =X_train.reshape(X_train.shape[0],X_train.shape[1] , 1)\n",
    "X_test = X_test.reshape(X_test.shape[0],X_test.shape[1] , 1)"
   ]
  },
  {
   "cell_type": "code",
   "execution_count": 53,
   "id": "48657361",
   "metadata": {},
   "outputs": [],
   "source": [
    "from tensorflow.keras.models import Sequential\n",
    "from tensorflow.keras.layers import Dense\n",
    "from tensorflow.keras.layers import LSTM"
   ]
  },
  {
   "cell_type": "code",
   "execution_count": 55,
   "id": "789f08eb",
   "metadata": {},
   "outputs": [],
   "source": [
    "model=Sequential()\n",
    "model.add(LSTM(50,return_sequences=True,input_shape=(50,1)))\n",
    "model.add(LSTM(50,return_sequences=True))\n",
    "model.add(LSTM(50))\n",
    "model.add(Dense(1))\n",
    "model.compile(loss='mean_squared_error',optimizer='adam')"
   ]
  },
  {
   "cell_type": "code",
   "execution_count": 56,
   "id": "2186f0b8",
   "metadata": {},
   "outputs": [
    {
     "name": "stdout",
     "output_type": "stream",
     "text": [
      "Model: \"sequential_7\"\n",
      "_________________________________________________________________\n",
      " Layer (type)                Output Shape              Param #   \n",
      "=================================================================\n",
      " lstm_21 (LSTM)              (None, 50, 50)            10400     \n",
      "                                                                 \n",
      " lstm_22 (LSTM)              (None, 50, 50)            20200     \n",
      "                                                                 \n",
      " lstm_23 (LSTM)              (None, 50)                20200     \n",
      "                                                                 \n",
      " dense_7 (Dense)             (None, 1)                 51        \n",
      "                                                                 \n",
      "=================================================================\n",
      "Total params: 50851 (198.64 KB)\n",
      "Trainable params: 50851 (198.64 KB)\n",
      "Non-trainable params: 0 (0.00 Byte)\n",
      "_________________________________________________________________\n"
     ]
    }
   ],
   "source": [
    "model.summary()"
   ]
  },
  {
   "cell_type": "code",
   "execution_count": 57,
   "id": "f7d29cb7",
   "metadata": {
    "scrolled": true
   },
   "outputs": [
    {
     "name": "stdout",
     "output_type": "stream",
     "text": [
      "Epoch 1/10\n",
      "732/732 [==============================] - 126s 157ms/step - loss: 1.1605e-05 - val_loss: 3.2151e-04\n",
      "Epoch 2/10\n",
      "732/732 [==============================] - 111s 151ms/step - loss: 4.2967e-06 - val_loss: 2.2269e-04\n",
      "Epoch 3/10\n",
      "732/732 [==============================] - 113s 154ms/step - loss: 3.0358e-06 - val_loss: 1.7669e-04\n",
      "Epoch 4/10\n",
      "732/732 [==============================] - 114s 156ms/step - loss: 2.5271e-06 - val_loss: 1.9171e-04\n",
      "Epoch 5/10\n",
      "732/732 [==============================] - 112s 153ms/step - loss: 2.0288e-06 - val_loss: 1.1982e-04\n",
      "Epoch 6/10\n",
      "732/732 [==============================] - 110s 150ms/step - loss: 1.8045e-06 - val_loss: 1.0575e-04\n",
      "Epoch 7/10\n",
      "732/732 [==============================] - 110s 150ms/step - loss: 1.5772e-06 - val_loss: 1.0399e-04\n",
      "Epoch 8/10\n",
      "732/732 [==============================] - 110s 150ms/step - loss: 1.3465e-06 - val_loss: 9.3590e-05\n",
      "Epoch 9/10\n",
      "732/732 [==============================] - 107s 147ms/step - loss: 1.2873e-06 - val_loss: 7.8865e-05\n",
      "Epoch 10/10\n",
      "732/732 [==============================] - 107s 146ms/step - loss: 1.3346e-06 - val_loss: 7.7764e-05\n"
     ]
    },
    {
     "data": {
      "text/plain": [
       "<keras.src.callbacks.History at 0x1ac01c873d0>"
      ]
     },
     "execution_count": 57,
     "metadata": {},
     "output_type": "execute_result"
    }
   ],
   "source": [
    "model.fit(X_train, y_train, validation_data=(X_test, y_test), epochs=10, batch_size=64, verbose=1)"
   ]
  },
  {
   "cell_type": "code",
   "execution_count": 59,
   "id": "d3b8abfd",
   "metadata": {},
   "outputs": [
    {
     "name": "stdout",
     "output_type": "stream",
     "text": [
      "1463/1463 [==============================] - 58s 38ms/step\n",
      "787/787 [==============================] - 29s 37ms/step\n"
     ]
    }
   ],
   "source": [
    "train_predict=model.predict(X_train)\n",
    "test_predict=model.predict(X_test)"
   ]
  },
  {
   "cell_type": "code",
   "execution_count": 60,
   "id": "97ecdb84",
   "metadata": {},
   "outputs": [],
   "source": [
    "##Transformback to original form\n",
    "train_predict=scaler.inverse_transform(train_predict)\n",
    "test_predict=scaler.inverse_transform(test_predict)"
   ]
  },
  {
   "cell_type": "code",
   "execution_count": 61,
   "id": "7b557856",
   "metadata": {},
   "outputs": [
    {
     "data": {
      "text/plain": [
       "498.3881502791652"
      ]
     },
     "execution_count": 61,
     "metadata": {},
     "output_type": "execute_result"
    }
   ],
   "source": [
    "import math\n",
    "from sklearn.metrics import mean_squared_error\n",
    "math.sqrt(mean_squared_error(y_train,train_predict))"
   ]
  },
  {
   "cell_type": "code",
   "execution_count": 63,
   "id": "38fac04e",
   "metadata": {
    "scrolled": true
   },
   "outputs": [
    {
     "data": {
      "text/plain": [
       "2585.7841228856864"
      ]
     },
     "execution_count": 63,
     "metadata": {},
     "output_type": "execute_result"
    }
   ],
   "source": [
    "math.sqrt(mean_squared_error(y_test,test_predict))"
   ]
  },
  {
   "cell_type": "code",
   "execution_count": 74,
   "id": "327031db",
   "metadata": {},
   "outputs": [
    {
     "data": {
      "image/png": "[encoded data removed]",
      "text/plain": [
       "<Figure size 640x480 with 1 Axes>"
      ]
     },
     "metadata": {},
     "output_type": "display_data"
    }
   ],
   "source": [
    "import numpy as np\n",
    "import matplotlib.pyplot as plt\n",
    "look_back = 100\n",
    "# Create an array for testPredictPlot with the appropriate shape\n",
    "testPredictPlot = np.empty_like(df1)\n",
    "testPredictPlot[:, :] = np.nan\n",
    "# Calculate the start and end indices for the assignment\n",
    "start_idx = len(train_predict) + (look_back * 2) + 1\n",
    "end_idx = start_idx + len(test_predict)\n",
    "# Reshape the test_predict array to match the shape of the slice\n",
    "test_predict_reshaped = test_predict[:len(testPredictPlot[start_idx:end_idx])]\n",
    "# Assign the reshaped test_predict to the testPredictPlot slice\n",
    "testPredictPlot[start_idx:end_idx, :] = test_predict_reshaped\n",
    "# plot baseline and predictions\n",
    "plt.plot(scaler.inverse_transform(df1))\n",
    "plt.plot(trainPredictPlot)\n",
    "plt.plot(testPredictPlot)\n",
    "plt.show()"
   ]
  },
  {
   "cell_type": "code",
   "execution_count": 77,
   "id": "fb8c4c04",
   "metadata": {},
   "outputs": [
    {
     "data": {
      "text/plain": [
       "(1, 50)"
      ]
     },
     "execution_count": 77,
     "metadata": {},
     "output_type": "execute_result"
    }
   ],
   "source": [
    "x_input=test_data[25176:].reshape(1,-1)\n",
    "x_input.shape"
   ]
  },
  {
   "cell_type": "code",
   "execution_count": 78,
   "id": "d5fb0838",
   "metadata": {},
   "outputs": [],
   "source": [
    "temp_input=list(x_input)\n",
    "temp_input=temp_input[0].tolist()"
   ]
  },
  {
   "cell_type": "code",
   "execution_count": 80,
   "id": "a882597e",
   "metadata": {},
   "outputs": [
    {
     "name": "stdout",
     "output_type": "stream",
     "text": [
      "0 day output [[0.3234205]]\n",
      "1 day input [0.29320208 0.28262377 0.26916134 0.26819971 0.26916134 0.27156541\n",
      " 0.27300786 0.26954599 0.27300786 0.27685438 0.28027778 0.27300786\n",
      " 0.27320018 0.27320018 0.27685438 0.27396949 0.28839394 0.28266262\n",
      " 0.28262416 0.28454703 0.27300786 0.27300786 0.2666611  0.2807009\n",
      " 0.27395141 0.28835547 0.2807009  0.2903172  0.30281838 0.29224046\n",
      " 0.30185675 0.29589465 0.31147267 0.30762653 0.30762653 0.30758807\n",
      " 0.30762653 0.30320304 0.31916609 0.31147305 0.31143459 0.29935652\n",
      " 0.31143459 0.3075496  0.30762653 0.30188945 0.31778327 0.3345137\n",
      " 0.32178172 0.32342049]\n",
      "1 day output [[0.3208276]]\n",
      "2 day input [0.28262377 0.26916134 0.26819971 0.26916134 0.27156541 0.27300786\n",
      " 0.26954599 0.27300786 0.27685438 0.28027778 0.27300786 0.27320018\n",
      " 0.27320018 0.27685438 0.27396949 0.28839394 0.28266262 0.28262416\n",
      " 0.28454703 0.27300786 0.27300786 0.2666611  0.2807009  0.27395141\n",
      " 0.28835547 0.2807009  0.2903172  0.30281838 0.29224046 0.30185675\n",
      " 0.29589465 0.31147267 0.30762653 0.30762653 0.30758807 0.30762653\n",
      " 0.30320304 0.31916609 0.31147305 0.31143459 0.29935652 0.31143459\n",
      " 0.3075496  0.30762653 0.30188945 0.31778327 0.3345137  0.32178172\n",
      " 0.32342049 0.3208276 ]\n",
      "2 day output [[0.3184364]]\n",
      "3 day input [0.26916134 0.26819971 0.26916134 0.27156541 0.27300786 0.26954599\n",
      " 0.27300786 0.27685438 0.28027778 0.27300786 0.27320018 0.27320018\n",
      " 0.27685438 0.27396949 0.28839394 0.28266262 0.28262416 0.28454703\n",
      " 0.27300786 0.27300786 0.2666611  0.2807009  0.27395141 0.28835547\n",
      " 0.2807009  0.2903172  0.30281838 0.29224046 0.30185675 0.29589465\n",
      " 0.31147267 0.30762653 0.30762653 0.30758807 0.30762653 0.30320304\n",
      " 0.31916609 0.31147305 0.31143459 0.29935652 0.31143459 0.3075496\n",
      " 0.30762653 0.30188945 0.31778327 0.3345137  0.32178172 0.32342049\n",
      " 0.3208276  0.31843641]\n",
      "3 day output [[0.31630465]]\n",
      "4 day input [0.26819971 0.26916134 0.27156541 0.27300786 0.26954599 0.27300786\n",
      " 0.27685438 0.28027778 0.27300786 0.27320018 0.27320018 0.27685438\n",
      " 0.27396949 0.28839394 0.28266262 0.28262416 0.28454703 0.27300786\n",
      " 0.27300786 0.2666611  0.2807009  0.27395141 0.28835547 0.2807009\n",
      " 0.2903172  0.30281838 0.29224046 0.30185675 0.29589465 0.31147267\n",
      " 0.30762653 0.30762653 0.30758807 0.30762653 0.30320304 0.31916609\n",
      " 0.31147305 0.31143459 0.29935652 0.31143459 0.3075496  0.30762653\n",
      " 0.30188945 0.31778327 0.3345137  0.32178172 0.32342049 0.3208276\n",
      " 0.31843641 0.31630465]\n",
      "4 day output [[0.31454608]]\n",
      "5 day input [0.26916134 0.27156541 0.27300786 0.26954599 0.27300786 0.27685438\n",
      " 0.28027778 0.27300786 0.27320018 0.27320018 0.27685438 0.27396949\n",
      " 0.28839394 0.28266262 0.28262416 0.28454703 0.27300786 0.27300786\n",
      " 0.2666611  0.2807009  0.27395141 0.28835547 0.2807009  0.2903172\n",
      " 0.30281838 0.29224046 0.30185675 0.29589465 0.31147267 0.30762653\n",
      " 0.30762653 0.30758807 0.30762653 0.30320304 0.31916609 0.31147305\n",
      " 0.31143459 0.29935652 0.31143459 0.3075496  0.30762653 0.30188945\n",
      " 0.31778327 0.3345137  0.32178172 0.32342049 0.3208276  0.31843641\n",
      " 0.31630465 0.31454608]\n",
      "5 day output [[0.31314027]]\n",
      "6 day input [0.27156541 0.27300786 0.26954599 0.27300786 0.27685438 0.28027778\n",
      " 0.27300786 0.27320018 0.27320018 0.27685438 0.27396949 0.28839394\n",
      " 0.28266262 0.28262416 0.28454703 0.27300786 0.27300786 0.2666611\n",
      " 0.2807009  0.27395141 0.28835547 0.2807009  0.2903172  0.30281838\n",
      " 0.29224046 0.30185675 0.29589465 0.31147267 0.30762653 0.30762653\n",
      " 0.30758807 0.30762653 0.30320304 0.31916609 0.31147305 0.31143459\n",
      " 0.29935652 0.31143459 0.3075496  0.30762653 0.30188945 0.31778327\n",
      " 0.3345137  0.32178172 0.32342049 0.3208276  0.31843641 0.31630465\n",
      " 0.31454608 0.31314027]\n",
      "6 day output [[0.31199723]]\n",
      "7 day input [0.27300786 0.26954599 0.27300786 0.27685438 0.28027778 0.27300786\n",
      " 0.27320018 0.27320018 0.27685438 0.27396949 0.28839394 0.28266262\n",
      " 0.28262416 0.28454703 0.27300786 0.27300786 0.2666611  0.2807009\n",
      " 0.27395141 0.28835547 0.2807009  0.2903172  0.30281838 0.29224046\n",
      " 0.30185675 0.29589465 0.31147267 0.30762653 0.30762653 0.30758807\n",
      " 0.30762653 0.30320304 0.31916609 0.31147305 0.31143459 0.29935652\n",
      " 0.31143459 0.3075496  0.30762653 0.30188945 0.31778327 0.3345137\n",
      " 0.32178172 0.32342049 0.3208276  0.31843641 0.31630465 0.31454608\n",
      " 0.31314027 0.31199723]\n",
      "7 day output [[0.3110105]]\n",
      "8 day input [0.26954599 0.27300786 0.27685438 0.28027778 0.27300786 0.27320018\n",
      " 0.27320018 0.27685438 0.27396949 0.28839394 0.28266262 0.28262416\n",
      " 0.28454703 0.27300786 0.27300786 0.2666611  0.2807009  0.27395141\n",
      " 0.28835547 0.2807009  0.2903172  0.30281838 0.29224046 0.30185675\n",
      " 0.29589465 0.31147267 0.30762653 0.30762653 0.30758807 0.30762653\n",
      " 0.30320304 0.31916609 0.31147305 0.31143459 0.29935652 0.31143459\n",
      " 0.3075496  0.30762653 0.30188945 0.31778327 0.3345137  0.32178172\n",
      " 0.32342049 0.3208276  0.31843641 0.31630465 0.31454608 0.31314027\n",
      " 0.31199723 0.31101051]\n",
      "8 day output [[0.31008992]]\n",
      "9 day input [0.27300786 0.27685438 0.28027778 0.27300786 0.27320018 0.27320018\n",
      " 0.27685438 0.27396949 0.28839394 0.28266262 0.28262416 0.28454703\n",
      " 0.27300786 0.27300786 0.2666611  0.2807009  0.27395141 0.28835547\n",
      " 0.2807009  0.2903172  0.30281838 0.29224046 0.30185675 0.29589465\n",
      " 0.31147267 0.30762653 0.30762653 0.30758807 0.30762653 0.30320304\n",
      " 0.31916609 0.31147305 0.31143459 0.29935652 0.31143459 0.3075496\n",
      " 0.30762653 0.30188945 0.31778327 0.3345137  0.32178172 0.32342049\n",
      " 0.3208276  0.31843641 0.31630465 0.31454608 0.31314027 0.31199723\n",
      " 0.31101051 0.31008992]\n",
      "9 day output [[0.3091748]]\n",
      "10 day input [0.27685438 0.28027778 0.27300786 0.27320018 0.27320018 0.27685438\n",
      " 0.27396949 0.28839394 0.28266262 0.28262416 0.28454703 0.27300786\n",
      " 0.27300786 0.2666611  0.2807009  0.27395141 0.28835547 0.2807009\n",
      " 0.2903172  0.30281838 0.29224046 0.30185675 0.29589465 0.31147267\n",
      " 0.30762653 0.30762653 0.30758807 0.30762653 0.30320304 0.31916609\n",
      " 0.31147305 0.31143459 0.29935652 0.31143459 0.3075496  0.30762653\n",
      " 0.30188945 0.31778327 0.3345137  0.32178172 0.32342049 0.3208276\n",
      " 0.31843641 0.31630465 0.31454608 0.31314027 0.31199723 0.31101051\n",
      " 0.31008992 0.30917481]\n",
      "10 day output [[0.3082346]]\n",
      "11 day input [0.28027778 0.27300786 0.27320018 0.27320018 0.27685438 0.27396949\n",
      " 0.28839394 0.28266262 0.28262416 0.28454703 0.27300786 0.27300786\n",
      " 0.2666611  0.2807009  0.27395141 0.28835547 0.2807009  0.2903172\n",
      " 0.30281838 0.29224046 0.30185675 0.29589465 0.31147267 0.30762653\n",
      " 0.30762653 0.30758807 0.30762653 0.30320304 0.31916609 0.31147305\n",
      " 0.31143459 0.29935652 0.31143459 0.3075496  0.30762653 0.30188945\n",
      " 0.31778327 0.3345137  0.32178172 0.32342049 0.3208276  0.31843641\n",
      " 0.31630465 0.31454608 0.31314027 0.31199723 0.31101051 0.31008992\n",
      " 0.30917481 0.3082346 ]\n",
      "11 day output [[0.3072624]]\n",
      "12 day input [0.27300786 0.27320018 0.27320018 0.27685438 0.27396949 0.28839394\n",
      " 0.28266262 0.28262416 0.28454703 0.27300786 0.27300786 0.2666611\n",
      " 0.2807009  0.27395141 0.28835547 0.2807009  0.2903172  0.30281838\n",
      " 0.29224046 0.30185675 0.29589465 0.31147267 0.30762653 0.30762653\n",
      " 0.30758807 0.30762653 0.30320304 0.31916609 0.31147305 0.31143459\n",
      " 0.29935652 0.31143459 0.3075496  0.30762653 0.30188945 0.31778327\n",
      " 0.3345137  0.32178172 0.32342049 0.3208276  0.31843641 0.31630465\n",
      " 0.31454608 0.31314027 0.31199723 0.31101051 0.31008992 0.30917481\n",
      " 0.3082346  0.30726239]\n",
      "12 day output [[0.306266]]\n",
      "13 day input [0.27320018 0.27320018 0.27685438 0.27396949 0.28839394 0.28266262\n",
      " 0.28262416 0.28454703 0.27300786 0.27300786 0.2666611  0.2807009\n",
      " 0.27395141 0.28835547 0.2807009  0.2903172  0.30281838 0.29224046\n",
      " 0.30185675 0.29589465 0.31147267 0.30762653 0.30762653 0.30758807\n",
      " 0.30762653 0.30320304 0.31916609 0.31147305 0.31143459 0.29935652\n",
      " 0.31143459 0.3075496  0.30762653 0.30188945 0.31778327 0.3345137\n",
      " 0.32178172 0.32342049 0.3208276  0.31843641 0.31630465 0.31454608\n",
      " 0.31314027 0.31199723 0.31101051 0.31008992 0.30917481 0.3082346\n",
      " 0.30726239 0.30626601]\n",
      "13 day output [[0.30525947]]\n",
      "14 day input [0.27320018 0.27685438 0.27396949 0.28839394 0.28266262 0.28262416\n",
      " 0.28454703 0.27300786 0.27300786 0.2666611  0.2807009  0.27395141\n",
      " 0.28835547 0.2807009  0.2903172  0.30281838 0.29224046 0.30185675\n",
      " 0.29589465 0.31147267 0.30762653 0.30762653 0.30758807 0.30762653\n",
      " 0.30320304 0.31916609 0.31147305 0.31143459 0.29935652 0.31143459\n",
      " 0.3075496  0.30762653 0.30188945 0.31778327 0.3345137  0.32178172\n",
      " 0.32342049 0.3208276  0.31843641 0.31630465 0.31454608 0.31314027\n",
      " 0.31199723 0.31101051 0.31008992 0.30917481 0.3082346  0.30726239\n",
      " 0.30626601 0.30525947]\n",
      "14 day output [[0.3042571]]\n",
      "15 day input [0.27685438 0.27396949 0.28839394 0.28266262 0.28262416 0.28454703\n",
      " 0.27300786 0.27300786 0.2666611  0.2807009  0.27395141 0.28835547\n",
      " 0.2807009  0.2903172  0.30281838 0.29224046 0.30185675 0.29589465\n",
      " 0.31147267 0.30762653 0.30762653 0.30758807 0.30762653 0.30320304\n",
      " 0.31916609 0.31147305 0.31143459 0.29935652 0.31143459 0.3075496\n",
      " 0.30762653 0.30188945 0.31778327 0.3345137  0.32178172 0.32342049\n",
      " 0.3208276  0.31843641 0.31630465 0.31454608 0.31314027 0.31199723\n",
      " 0.31101051 0.31008992 0.30917481 0.3082346  0.30726239 0.30626601\n",
      " 0.30525947 0.30425709]\n",
      "15 day output [[0.30327022]]\n",
      "16 day input [0.27396949 0.28839394 0.28266262 0.28262416 0.28454703 0.27300786\n",
      " 0.27300786 0.2666611  0.2807009  0.27395141 0.28835547 0.2807009\n",
      " 0.2903172  0.30281838 0.29224046 0.30185675 0.29589465 0.31147267\n",
      " 0.30762653 0.30762653 0.30758807 0.30762653 0.30320304 0.31916609\n",
      " 0.31147305 0.31143459 0.29935652 0.31143459 0.3075496  0.30762653\n",
      " 0.30188945 0.31778327 0.3345137  0.32178172 0.32342049 0.3208276\n",
      " 0.31843641 0.31630465 0.31454608 0.31314027 0.31199723 0.31101051\n",
      " 0.31008992 0.30917481 0.3082346  0.30726239 0.30626601 0.30525947\n",
      " 0.30425709 0.30327022]\n"
     ]
    },
    {
     "name": "stdout",
     "output_type": "stream",
     "text": [
      "16 day output [[0.30230555]]\n",
      "17 day input [0.28839394 0.28266262 0.28262416 0.28454703 0.27300786 0.27300786\n",
      " 0.2666611  0.2807009  0.27395141 0.28835547 0.2807009  0.2903172\n",
      " 0.30281838 0.29224046 0.30185675 0.29589465 0.31147267 0.30762653\n",
      " 0.30762653 0.30758807 0.30762653 0.30320304 0.31916609 0.31147305\n",
      " 0.31143459 0.29935652 0.31143459 0.3075496  0.30762653 0.30188945\n",
      " 0.31778327 0.3345137  0.32178172 0.32342049 0.3208276  0.31843641\n",
      " 0.31630465 0.31454608 0.31314027 0.31199723 0.31101051 0.31008992\n",
      " 0.30917481 0.3082346  0.30726239 0.30626601 0.30525947 0.30425709\n",
      " 0.30327022 0.30230555]\n",
      "17 day output [[0.30136588]]\n",
      "18 day input [0.28266262 0.28262416 0.28454703 0.27300786 0.27300786 0.2666611\n",
      " 0.2807009  0.27395141 0.28835547 0.2807009  0.2903172  0.30281838\n",
      " 0.29224046 0.30185675 0.29589465 0.31147267 0.30762653 0.30762653\n",
      " 0.30758807 0.30762653 0.30320304 0.31916609 0.31147305 0.31143459\n",
      " 0.29935652 0.31143459 0.3075496  0.30762653 0.30188945 0.31778327\n",
      " 0.3345137  0.32178172 0.32342049 0.3208276  0.31843641 0.31630465\n",
      " 0.31454608 0.31314027 0.31199723 0.31101051 0.31008992 0.30917481\n",
      " 0.3082346  0.30726239 0.30626601 0.30525947 0.30425709 0.30327022\n",
      " 0.30230555 0.30136588]\n",
      "18 day output [[0.30045083]]\n",
      "19 day input [0.28262416 0.28454703 0.27300786 0.27300786 0.2666611  0.2807009\n",
      " 0.27395141 0.28835547 0.2807009  0.2903172  0.30281838 0.29224046\n",
      " 0.30185675 0.29589465 0.31147267 0.30762653 0.30762653 0.30758807\n",
      " 0.30762653 0.30320304 0.31916609 0.31147305 0.31143459 0.29935652\n",
      " 0.31143459 0.3075496  0.30762653 0.30188945 0.31778327 0.3345137\n",
      " 0.32178172 0.32342049 0.3208276  0.31843641 0.31630465 0.31454608\n",
      " 0.31314027 0.31199723 0.31101051 0.31008992 0.30917481 0.3082346\n",
      " 0.30726239 0.30626601 0.30525947 0.30425709 0.30327022 0.30230555\n",
      " 0.30136588 0.30045083]\n",
      "19 day output [[0.29955828]]\n",
      "20 day input [0.28454703 0.27300786 0.27300786 0.2666611  0.2807009  0.27395141\n",
      " 0.28835547 0.2807009  0.2903172  0.30281838 0.29224046 0.30185675\n",
      " 0.29589465 0.31147267 0.30762653 0.30762653 0.30758807 0.30762653\n",
      " 0.30320304 0.31916609 0.31147305 0.31143459 0.29935652 0.31143459\n",
      " 0.3075496  0.30762653 0.30188945 0.31778327 0.3345137  0.32178172\n",
      " 0.32342049 0.3208276  0.31843641 0.31630465 0.31454608 0.31314027\n",
      " 0.31199723 0.31101051 0.31008992 0.30917481 0.3082346  0.30726239\n",
      " 0.30626601 0.30525947 0.30425709 0.30327022 0.30230555 0.30136588\n",
      " 0.30045083 0.29955828]\n",
      "20 day output [[0.29868537]]\n",
      "21 day input [0.27300786 0.27300786 0.2666611  0.2807009  0.27395141 0.28835547\n",
      " 0.2807009  0.2903172  0.30281838 0.29224046 0.30185675 0.29589465\n",
      " 0.31147267 0.30762653 0.30762653 0.30758807 0.30762653 0.30320304\n",
      " 0.31916609 0.31147305 0.31143459 0.29935652 0.31143459 0.3075496\n",
      " 0.30762653 0.30188945 0.31778327 0.3345137  0.32178172 0.32342049\n",
      " 0.3208276  0.31843641 0.31630465 0.31454608 0.31314027 0.31199723\n",
      " 0.31101051 0.31008992 0.30917481 0.3082346  0.30726239 0.30626601\n",
      " 0.30525947 0.30425709 0.30327022 0.30230555 0.30136588 0.30045083\n",
      " 0.29955828 0.29868537]\n",
      "21 day output [[0.29782918]]\n",
      "22 day input [0.27300786 0.2666611  0.2807009  0.27395141 0.28835547 0.2807009\n",
      " 0.2903172  0.30281838 0.29224046 0.30185675 0.29589465 0.31147267\n",
      " 0.30762653 0.30762653 0.30758807 0.30762653 0.30320304 0.31916609\n",
      " 0.31147305 0.31143459 0.29935652 0.31143459 0.3075496  0.30762653\n",
      " 0.30188945 0.31778327 0.3345137  0.32178172 0.32342049 0.3208276\n",
      " 0.31843641 0.31630465 0.31454608 0.31314027 0.31199723 0.31101051\n",
      " 0.31008992 0.30917481 0.3082346  0.30726239 0.30626601 0.30525947\n",
      " 0.30425709 0.30327022 0.30230555 0.30136588 0.30045083 0.29955828\n",
      " 0.29868537 0.29782918]\n",
      "22 day output [[0.29698744]]\n",
      "23 day input [0.2666611  0.2807009  0.27395141 0.28835547 0.2807009  0.2903172\n",
      " 0.30281838 0.29224046 0.30185675 0.29589465 0.31147267 0.30762653\n",
      " 0.30762653 0.30758807 0.30762653 0.30320304 0.31916609 0.31147305\n",
      " 0.31143459 0.29935652 0.31143459 0.3075496  0.30762653 0.30188945\n",
      " 0.31778327 0.3345137  0.32178172 0.32342049 0.3208276  0.31843641\n",
      " 0.31630465 0.31454608 0.31314027 0.31199723 0.31101051 0.31008992\n",
      " 0.30917481 0.3082346  0.30726239 0.30626601 0.30525947 0.30425709\n",
      " 0.30327022 0.30230555 0.30136588 0.30045083 0.29955828 0.29868537\n",
      " 0.29782918 0.29698744]\n",
      "23 day output [[0.29615837]]\n",
      "24 day input [0.2807009  0.27395141 0.28835547 0.2807009  0.2903172  0.30281838\n",
      " 0.29224046 0.30185675 0.29589465 0.31147267 0.30762653 0.30762653\n",
      " 0.30758807 0.30762653 0.30320304 0.31916609 0.31147305 0.31143459\n",
      " 0.29935652 0.31143459 0.3075496  0.30762653 0.30188945 0.31778327\n",
      " 0.3345137  0.32178172 0.32342049 0.3208276  0.31843641 0.31630465\n",
      " 0.31454608 0.31314027 0.31199723 0.31101051 0.31008992 0.30917481\n",
      " 0.3082346  0.30726239 0.30626601 0.30525947 0.30425709 0.30327022\n",
      " 0.30230555 0.30136588 0.30045083 0.29955828 0.29868537 0.29782918\n",
      " 0.29698744 0.29615837]\n",
      "24 day output [[0.2953408]]\n",
      "25 day input [0.27395141 0.28835547 0.2807009  0.2903172  0.30281838 0.29224046\n",
      " 0.30185675 0.29589465 0.31147267 0.30762653 0.30762653 0.30758807\n",
      " 0.30762653 0.30320304 0.31916609 0.31147305 0.31143459 0.29935652\n",
      " 0.31143459 0.3075496  0.30762653 0.30188945 0.31778327 0.3345137\n",
      " 0.32178172 0.32342049 0.3208276  0.31843641 0.31630465 0.31454608\n",
      " 0.31314027 0.31199723 0.31101051 0.31008992 0.30917481 0.3082346\n",
      " 0.30726239 0.30626601 0.30525947 0.30425709 0.30327022 0.30230555\n",
      " 0.30136588 0.30045083 0.29955828 0.29868537 0.29782918 0.29698744\n",
      " 0.29615837 0.29534081]\n",
      "25 day output [[0.2945341]]\n",
      "26 day input [0.28835547 0.2807009  0.2903172  0.30281838 0.29224046 0.30185675\n",
      " 0.29589465 0.31147267 0.30762653 0.30762653 0.30758807 0.30762653\n",
      " 0.30320304 0.31916609 0.31147305 0.31143459 0.29935652 0.31143459\n",
      " 0.3075496  0.30762653 0.30188945 0.31778327 0.3345137  0.32178172\n",
      " 0.32342049 0.3208276  0.31843641 0.31630465 0.31454608 0.31314027\n",
      " 0.31199723 0.31101051 0.31008992 0.30917481 0.3082346  0.30726239\n",
      " 0.30626601 0.30525947 0.30425709 0.30327022 0.30230555 0.30136588\n",
      " 0.30045083 0.29955828 0.29868537 0.29782918 0.29698744 0.29615837\n",
      " 0.29534081 0.29453409]\n",
      "26 day output [[0.29373783]]\n",
      "27 day input [0.2807009  0.2903172  0.30281838 0.29224046 0.30185675 0.29589465\n",
      " 0.31147267 0.30762653 0.30762653 0.30758807 0.30762653 0.30320304\n",
      " 0.31916609 0.31147305 0.31143459 0.29935652 0.31143459 0.3075496\n",
      " 0.30762653 0.30188945 0.31778327 0.3345137  0.32178172 0.32342049\n",
      " 0.3208276  0.31843641 0.31630465 0.31454608 0.31314027 0.31199723\n",
      " 0.31101051 0.31008992 0.30917481 0.3082346  0.30726239 0.30626601\n",
      " 0.30525947 0.30425709 0.30327022 0.30230555 0.30136588 0.30045083\n",
      " 0.29955828 0.29868537 0.29782918 0.29698744 0.29615837 0.29534081\n",
      " 0.29453409 0.29373783]\n",
      "27 day output [[0.2929517]]\n",
      "28 day input [0.2903172  0.30281838 0.29224046 0.30185675 0.29589465 0.31147267\n",
      " 0.30762653 0.30762653 0.30758807 0.30762653 0.30320304 0.31916609\n",
      " 0.31147305 0.31143459 0.29935652 0.31143459 0.3075496  0.30762653\n",
      " 0.30188945 0.31778327 0.3345137  0.32178172 0.32342049 0.3208276\n",
      " 0.31843641 0.31630465 0.31454608 0.31314027 0.31199723 0.31101051\n",
      " 0.31008992 0.30917481 0.3082346  0.30726239 0.30626601 0.30525947\n",
      " 0.30425709 0.30327022 0.30230555 0.30136588 0.30045083 0.29955828\n",
      " 0.29868537 0.29782918 0.29698744 0.29615837 0.29534081 0.29453409\n",
      " 0.29373783 0.2929517 ]\n",
      "28 day output [[0.2921756]]\n",
      "29 day input [0.30281838 0.29224046 0.30185675 0.29589465 0.31147267 0.30762653\n",
      " 0.30762653 0.30758807 0.30762653 0.30320304 0.31916609 0.31147305\n",
      " 0.31143459 0.29935652 0.31143459 0.3075496  0.30762653 0.30188945\n",
      " 0.31778327 0.3345137  0.32178172 0.32342049 0.3208276  0.31843641\n",
      " 0.31630465 0.31454608 0.31314027 0.31199723 0.31101051 0.31008992\n",
      " 0.30917481 0.3082346  0.30726239 0.30626601 0.30525947 0.30425709\n",
      " 0.30327022 0.30230555 0.30136588 0.30045083 0.29955828 0.29868537\n",
      " 0.29782918 0.29698744 0.29615837 0.29534081 0.29453409 0.29373783\n",
      " 0.2929517  0.29217559]\n",
      "29 day output [[0.2914093]]\n",
      "[[0.3234204947948456], [0.3208276033401489], [0.3184364140033722], [0.31630465388298035], [0.3145460784435272], [0.31314027309417725], [0.3119972348213196], [0.3110105097293854], [0.31008991599082947], [0.3091748058795929], [0.3082346022129059], [0.3072623908519745], [0.30626600980758667], [0.30525946617126465], [0.3042570948600769], [0.30327022075653076], [0.30230554938316345], [0.3013658821582794], [0.3004508316516876], [0.29955828189849854], [0.29868537187576294], [0.29782918095588684], [0.2969874441623688], [0.2961583733558655], [0.29534080624580383], [0.2945340871810913], [0.29373782873153687], [0.29295170307159424], [0.2921755909919739], [0.29140931367874146]]\n"
     ]
    }
   ],
   "source": [
    "from numpy import array\n",
    "lst_output = []\n",
    "n_steps = 50\n",
    "i = 0\n",
    "prediction_days = 30  # Set the number of days to predict\n",
    "while i < prediction_days:  # Change the loop limit to 10 days\n",
    "    if len(temp_input) > n_steps:\n",
    "        x_input = array(temp_input[1:])\n",
    "        print(\"{} day input {}\".format(i, x_input))\n",
    "        x_input = x_input.reshape(1, -1)\n",
    "        x_input = x_input.reshape((1, n_steps, 1))\n",
    "        yhat = model.predict(x_input, verbose=0)\n",
    "        print(\"{} day output {}\".format(i, yhat))\n",
    "        temp_input.extend(yhat[0].tolist())\n",
    "        temp_input = temp_input[1:]\n",
    "        lst_output.extend(yhat.tolist())\n",
    "        i += 1\n",
    "    else:\n",
    "        x_input = x_input.reshape((1, n_steps, 1))\n",
    "        yhat = model.predict(x_input, verbose=0)\n",
    "        print(\"{} day output {}\".format(i, yhat))\n",
    "        temp_input.extend(yhat[0].tolist())\n",
    "        lst_output.extend(yhat.tolist())\n",
    "        i += 1\n",
    "print(lst_output)"
   ]
  },
  {
   "cell_type": "code",
   "execution_count": 81,
   "id": "d510bee5",
   "metadata": {},
   "outputs": [],
   "source": [
    "day_new=np.arange(1,101)\n",
    "day_pred=np.arange(101,131)"
   ]
  },
  {
   "cell_type": "code",
   "execution_count": 82,
   "id": "fc13ca25",
   "metadata": {},
   "outputs": [
    {
     "data": {
      "text/plain": [
       "72072"
      ]
     },
     "execution_count": 82,
     "metadata": {},
     "output_type": "execute_result"
    }
   ],
   "source": [
    "len(df1)"
   ]
  },
  {
   "cell_type": "code",
   "execution_count": 83,
   "id": "b5465d91",
   "metadata": {},
   "outputs": [
    {
     "data": {
      "text/plain": [
       "[<matplotlib.lines.Line2D at 0x1ac1be5d090>]"
      ]
     },
     "execution_count": 83,
     "metadata": {},
     "output_type": "execute_result"
    },
    {
     "data": {
      "image/png": "[encoded data removed]",
      "text/plain": [
       "<Figure size 640x480 with 1 Axes>"
      ]
     },
     "metadata": {},
     "output_type": "display_data"
    }
   ],
   "source": [
    "plt.plot(day_new,scaler.inverse_transform(df1[71972:]))\n",
    "plt.plot(day_pred,scaler.inverse_transform(lst_output))"
   ]
  },
  {
   "cell_type": "code",
   "execution_count": 84,
   "id": "884777fb",
   "metadata": {},
   "outputs": [
    {
     "data": {
      "text/plain": [
       "[<matplotlib.lines.Line2D at 0x1ac173aebf0>]"
      ]
     },
     "execution_count": 84,
     "metadata": {},
     "output_type": "execute_result"
    },
    {
     "data": {
      "image/png": "[encoded data removed]",
      "text/plain": [
       "<Figure size 640x480 with 1 Axes>"
      ]
     },
     "metadata": {},
     "output_type": "display_data"
    }
   ],
   "source": [
    "df3=df1.tolist()\n",
    "df3.extend(lst_output)\n",
    "plt.plot(df3[72000:])"
   ]
  },
  {
   "cell_type": "code",
   "execution_count": 85,
   "id": "f4c09fe8",
   "metadata": {},
   "outputs": [],
   "source": [
    "df3=scaler.inverse_transform(df3).tolist()"
   ]
  },
  {
   "cell_type": "code",
   "execution_count": 86,
   "id": "ed7d28a6",
   "metadata": {},
   "outputs": [
    {
     "data": {
      "text/plain": [
       "[<matplotlib.lines.Line2D at 0x1ac4e4ef970>]"
      ]
     },
     "execution_count": 86,
     "metadata": {},
     "output_type": "execute_result"
    },
    {
     "data": {
      "image/png": "[encoded data removed]",
      "text/plain": [
       "<Figure size 640x480 with 1 Axes>"
      ]
     },
     "metadata": {},
     "output_type": "display_data"
    }
   ],
   "source": [
    "plt.plot(df3)"
   ]
  }
 ],
 "metadata": {
  "kernelspec": {
   "display_name": "Python 3 (ipykernel)",
   "language": "python",
   "name": "python3"
  },
  "language_info": {
   "codemirror_mode": {
    "name": "ipython",
    "version": 3
   },
   "file_extension": ".py",
   "mimetype": "text/x-python",
   "name": "python",
   "nbconvert_exporter": "python",
   "pygments_lexer": "ipython3",
   "version": "3.10.9"
  }
 },
 "nbformat": 4,
 "nbformat_minor": 5
}
